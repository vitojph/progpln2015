{
 "cells": [
  {
   "cell_type": "code",
   "execution_count": null,
   "metadata": {
    "collapsed": false
   },
   "outputs": [],
   "source": [
    "from __future__ import print_function, division"
   ]
  },
  {
   "cell_type": "markdown",
   "metadata": {},
   "source": [
    "# Introducción a Python\n",
    "\n",
    "Vamos a hacer una pequeña introducción al lenguaje de programación [Python](http://www.python.org). Para ello, me voy a apoyar principalmente en [el curso online de Python en CodeCademy](http://www.codecademy.com/es/tracks/python-latinamerica). Para profundizar y afianzar conceptos generales de Python es muy recomendable que hagáis por vuestra cuenta dicho curso.\n",
    "\n",
    "## Variables y tipos de datos\n",
    "\n",
    "En los lenguajes de programación, una **variable** es un tipo de *identificador* que almacena o al que se le asigna un determinado valor. Este valor puede ser de distinto tipo, como veremos más adelante. Para asignar valores a variables, utilizamos el signo `=` con la siguiente sintaxis:\n",
    "\n",
    "    nombre_de_variable = valor\n",
    "\n",
    "Veamos un ejemplo: vamos a *declarar* distintas variables, asignándoles valores:"
   ]
  },
  {
   "cell_type": "code",
   "execution_count": null,
   "metadata": {
    "collapsed": false
   },
   "outputs": [],
   "source": [
    "# NOTA: en Python, las líneas que comienzan con # son comentarios\n",
    "# El intérprete no las lee. Los humanos sí deberíamos leerlas :-)\n",
    "mivariable = 17\n",
    "edad = 25\n",
    "year = 2013"
   ]
  },
  {
   "cell_type": "markdown",
   "metadata": {},
   "source": [
    "En Python podemos utilizar como nombre de variable cualquier secuencia de caracteres alfanuméricos, siempre que comience por una letra del alfabeto y no sea una palabra reservada por el propio lenguaje (típicamente, nombres de funciones y palabras clave).\n",
    "\n",
    "Una vez que hemos asignado valores a nombres de variables, podemos utilizar o recuperar esos valores siempre que lo necesitemos. \n",
    "\n",
    "Para hacer una pequeña prueba, vamos a imprimir por pantalla el valor de las variables declaradas anteriormente. Para imprimir por pantalla, usamos la función `print`."
   ]
  },
  {
   "cell_type": "code",
   "execution_count": null,
   "metadata": {
    "collapsed": false
   },
   "outputs": [],
   "source": [
    "print(mivariable)\n",
    "print(year)\n",
    "print('El niño come manzanas.')\n",
    "print(255666)"
   ]
  },
  {
   "cell_type": "code",
   "execution_count": null,
   "metadata": {
    "collapsed": false
   },
   "outputs": [],
   "source": [
    "# esta celda dará error, al menos mientras no declaremos la variable llamada otraVariable\n",
    "print(otraVariable)"
   ]
  },
  {
   "cell_type": "markdown",
   "metadata": {},
   "source": [
    "En el ejemplo anterior, hemos declarado tres variables diferentes. Sin embargo, el tipo de dato que estábamos almacenando era el mismo: simples números enteros. \n",
    "\n",
    "Como hemos mencionado antes, las variables pueden almacenar distintos tipos de datos. Los principales que vamos a utilizar nosotros son: \n",
    "\n",
    "- números enteros: *1, 4542, -38*\n",
    "- números reales: *2.3, -0.00000034123, 10.0*\n",
    "- cadenas de texto: *hola*, *La niña come manzanas*, *to/TO be/VB or/CC not/RB to/TO be/VB*\n",
    "- valores *booleanos*: `True`, `False`\n",
    "\n",
    "Veamos cómo funcionan."
   ]
  },
  {
   "cell_type": "code",
   "execution_count": null,
   "metadata": {
    "collapsed": false
   },
   "outputs": [],
   "source": [
    "# números enteros (integer)\n",
    "hijos = 3\n",
    "\n",
    "# números reales (float), siempre indicando los decimales con punto\n",
    "precio = 350.25\n",
    "longitud = 1.5\n",
    "\n",
    "# cadenas de texto (string), siempre entre comillas simples o dobles\n",
    "nombre = \"Pedro\"\n",
    "apellidos = 'Sanz Hernández'\n",
    "\n",
    "# valores booleanos (bool): solo pueden ser True o False, escritos tal cual sin comillas\n",
    "animal = True\n",
    "mineral = False"
   ]
  },
  {
   "cell_type": "code",
   "execution_count": null,
   "metadata": {
    "collapsed": false
   },
   "outputs": [],
   "source": [
    "# imprimimos algunos de ellos por pantalla\n",
    "print(hijos)\n",
    "print(nombre, apellidos)\n",
    "print(precio)\n",
    "print(mineral)"
   ]
  },
  {
   "cell_type": "markdown",
   "metadata": {},
   "source": [
    "Los valores que contienen las variabes pueden ser reasignados en cualquier momento. Eso sí, solo almacenan el último valor que hayamos asignado. \n",
    "\n",
    "Si reasignamos algunas de las variables declaradas anteriormente e imprimimos sus valores por pantalla, comprobamos que éstos han cambiado:"
   ]
  },
  {
   "cell_type": "code",
   "execution_count": null,
   "metadata": {
    "collapsed": false
   },
   "outputs": [],
   "source": [
    "nombre = \"Ana\"\n",
    "apellidos = 'Serrano de la Oca'\n",
    "print(nombre, apellidos)"
   ]
  },
  {
   "cell_type": "markdown",
   "metadata": {},
   "source": [
    "## Operaciones aritméticas\n",
    "\n",
    "Podemos utilizar el intérprete de Python como una calculadora. Basta con introducir operaciones aritméticas como operadores que seguramente ya conoces: suma (`+`), resta (`-`), multiplicación (`*`), división (`/`), potencias (`**`) y módulo (`%`). Vamos a imprimir por pantalla el resultado de algunas operaciones."
   ]
  },
  {
   "cell_type": "code",
   "execution_count": null,
   "metadata": {
    "collapsed": false
   },
   "outputs": [],
   "source": [
    "# en versiones anteriores a Python3, con esta línea nos aseguramos que la división funciona como esperamos\n",
    "\n",
    "#suma \n",
    "print(5+6)\n",
    "\n",
    "# resta\n",
    "print(10-3)\n",
    "\n",
    "# multiplicación\n",
    "print(25*6)\n",
    "\n",
    "# división\n",
    "print(2558/8)\n",
    "\n",
    "# potencias\n",
    "print(2**3)\n",
    "\n",
    "# módulo hace referencia al resto de la división 10/2.\n",
    "print(10%2)"
   ]
  },
  {
   "cell_type": "markdown",
   "metadata": {},
   "source": [
    "Si retomamos lo aprendido anteriormente acerca de las variables, veremos que podemos declarar variables a partir de operaciones matemáticas, por ejemplo:"
   ]
  },
  {
   "cell_type": "code",
   "execution_count": null,
   "metadata": {
    "collapsed": false
   },
   "outputs": [],
   "source": [
    "# una suma sencilla\n",
    "suma = 9+5\n",
    "print(suma)"
   ]
  },
  {
   "cell_type": "code",
   "execution_count": null,
   "metadata": {
    "collapsed": false
   },
   "outputs": [],
   "source": [
    "# calculamos el área de un cuadrado\n",
    "lado = 1.5\n",
    "area = lado**2 # es equivalente a lado*lado\n",
    "print(area)"
   ]
  },
  {
   "cell_type": "code",
   "execution_count": null,
   "metadata": {
    "collapsed": false
   },
   "outputs": [],
   "source": [
    "# vamos a calcular el precio final de un producto cuyo valor es 19,95€\n",
    "iva = 21\n",
    "precio = 19.95\n",
    "precio_final = precio + (precio * iva)/100\n",
    "print(precio_final)"
   ]
  },
  {
   "cell_type": "code",
   "execution_count": null,
   "metadata": {
    "collapsed": false
   },
   "outputs": [],
   "source": [
    "# calculamos la edad actual de una persona\n",
    "ahora = 2015\n",
    "fechaNacimiento = 1985\n",
    "edad = ahora - fechaNacimiento\n",
    "print(edad)"
   ]
  },
  {
   "cell_type": "markdown",
   "metadata": {},
   "source": [
    "# Gestión de cadenas (*strings*)\n",
    "\n",
    "Si nuestro objetivo es aprende a programar en Python para procesar texto, las **cadenas de caracteres** van a ser el principal tipo de dato que vamos a manejar. Como hemos visto antes, las cadenas se identifican en Python porque se declaran entre comillas dobles (`\"cadena\"`) o simples (`'cadena'`) o, si las cadenas son muy largas y ocupan más de una línea, entre triples pares de comillas. \n",
    "\n",
    "Algunos ejemplos de cadenas:"
   ]
  },
  {
   "cell_type": "code",
   "execution_count": null,
   "metadata": {
    "collapsed": false
   },
   "outputs": [],
   "source": [
    "nombre = \"Godofredo de Orléans\"\n",
    "\n",
    "oracion = 'GREEN COLORLESS IDEAS SLEEP FURIOUSLY'\n",
    "\n",
    "parrafo = \"\"\"En un lugar de la Mancha, de cuyo nombre no quiero acordarme, \n",
    "no ha mucho tiempo que vivía un hidalgo de los de lanza en astillero, \n",
    "adarga antigua, rocín flaco y galgo corredor. Una olla de algo más vaca \n",
    "que carnero, salpicón las más noches, duelos y quebrantos los sábados, \n",
    "lentejas los viernes, algún palomino de añadidura los domingos, consumían \n",
    "las tres partes de su hacienda.\"\"\""
   ]
  },
  {
   "cell_type": "markdown",
   "metadata": {},
   "source": [
    "¡OJO! Podemos definir como valores de variables cadenas formadas por secuencias de números, siempre que se declaren entre comillas. Es muy importante entender la diferencia entre:"
   ]
  },
  {
   "cell_type": "code",
   "execution_count": null,
   "metadata": {
    "collapsed": false
   },
   "outputs": [],
   "source": [
    "numero1 = 45852236\n",
    "numero2 = \"45852236\"\n",
    "\n",
    "# podemos realizar operaciones aritméticas entre números\n",
    "print(numero1 + 1)\n",
    "\n",
    "# pero no entre cadenas y números: esto da un error\n",
    "print(numero2 + 1)"
   ]
  },
  {
   "cell_type": "code",
   "execution_count": null,
   "metadata": {
    "collapsed": false
   },
   "outputs": [],
   "source": [
    "# sin embargo, sí puedo utilizar el operador '+' para concatenar varias cadenas\n",
    "print(numero2 + \"1\")\n",
    "print(\"¡Hola\" + \" \" + \"amigo!\")"
   ]
  },
  {
   "cell_type": "markdown",
   "metadata": {},
   "source": [
    "### Conversión ente cadenas y enteros\n",
    "\n",
    "Otra manera de generar cadenas de texto es utilizando la función `str()` con un argumento que no sea una cadena. Fíjate en los ejemplos:"
   ]
  },
  {
   "cell_type": "code",
   "execution_count": null,
   "metadata": {
    "collapsed": false
   },
   "outputs": [],
   "source": [
    "# guardamos en numero1 un entero\n",
    "numero1 = 45852236\n",
    "# en numero2, guardamos el valor de numero1 convertido a cadena de texto con la función str()\n",
    "numero2 = str(numero1)\n",
    "\n",
    "# con la función type() imprimimos por pantalla el tipo de dato que guarda una variable\n",
    "print(type(numero1)) # es un entero: int\n",
    "print(type(numero2)) # es una cadena: str"
   ]
  },
  {
   "cell_type": "markdown",
   "metadata": {},
   "source": [
    "Para hacer el paso contrario, es decir, transformar cadenas en enteros, podemos utilizar la función `int()`."
   ]
  },
  {
   "cell_type": "code",
   "execution_count": null,
   "metadata": {
    "collapsed": false
   },
   "outputs": [],
   "source": [
    "# guardamos en numero1 una cadena\n",
    "numero1 = \"45852236\"\n",
    "# en numero2, guardamos el valor de numero1 convertido a entero con la función int()\n",
    "numero2 = int(numero1)\n",
    "\n",
    "# con la función type() imprimimos por pantalla el tipo de dato que guarda una variable\n",
    "\n",
    "print(type(numero1)) # es una cadena: str\n",
    "print(type(numero2)) # es un entero: int"
   ]
  },
  {
   "cell_type": "markdown",
   "metadata": {},
   "source": [
    "Recuerda, cualquier secuencia alfanumérica encerrada entre comillas será tratada como una cadena de caracteres (*string*) aunque esté formada únicamente por dígitos.\n",
    "\n",
    "\n",
    "### Métodos sobre cadenas\n",
    "\n",
    "Existe una serie de *funciones* y *metodos* que podemos ejecutar sobre cadenas de texto y que nos van a permitir realizar operaciones y transformar dichas cadenas de distintas maneras, p. ej.: \n",
    "\n",
    "- contar el número de caracteres de una cadena (`len()`) \n",
    "- transformar la cadena a mayúsculas (`.upper()`) o minúsculas (`.lower()`)\n",
    "\n",
    "Para más info, consulta [los métodos que podemos aplicar a las cadenas](http://rgruet.free.fr/PQR27/PQR2.7.html#stringMethods).\n"
   ]
  },
  {
   "cell_type": "code",
   "execution_count": null,
   "metadata": {
    "collapsed": false
   },
   "outputs": [],
   "source": [
    "print(len(nombre)) # devuelve la longitud (en número de caracteres) de una cadena\n",
    "\n",
    "print(oracion.lower()) # transforma una cadena a minúsculas (lowercas)\n",
    "\n",
    "print(parrafo.upper()) # transforma una cadena a mayúsculas (uppercas)\n",
    "\n",
    "print(\"AbCdEfGhIjKlMnÑoPqRsTuVwXyZ\".swapcase()) # transforma mayúsculas a minúsculas y viceversa"
   ]
  },
  {
   "cell_type": "markdown",
   "metadata": {},
   "source": [
    "# Listas\n",
    "\n",
    "Las **listas** de Python son una estructura de datos que almacenan una colección de diferentes tipos de información en forma de secuencia ordenada, bajo un solo nombre de variable. Las listas pueden guardar valores de cualquiera de los tipos que hemos visto anteriormente (cadenas, números y booleanos) e incluso **las listas pueden incluir otras listas de manera anidada**.\n",
    "\n",
    "Las listas se declaran especificando la colección de elementos entre corchetes y separando los elementos con comas:"
   ]
  },
  {
   "cell_type": "code",
   "execution_count": null,
   "metadata": {
    "collapsed": false
   },
   "outputs": [],
   "source": [
    "numeros = [1, 2, 3, 4, 5, 6, 7, 8, 9, 10]\n",
    "dias = [\"lunes\", \"martes\", \"miércoles\", \"jueves\", \"viernes\", \"sábado\", \"domingo\"]\n",
    "misCosas = [23.4, True, oracion.lower()]\n",
    "listaVacia = []\n",
    "\n",
    "# los imprimimos por pantalla\n",
    "print(numeros)\n",
    "print(dias)\n",
    "print(misCosas)\n",
    "print(listaVacia)"
   ]
  },
  {
   "cell_type": "markdown",
   "metadata": {},
   "source": [
    "Las listas son estructuras de datos ordenadas, lo que implica que podemos acceder a los elementos individuales a través de un índice (la posición  que ocupa en la secuencia). El índice se especifica indicando el nombre de la lista y un entero entre corchetes: `nombre_de_lista[índice]`.\n",
    "\n",
    "¡OJO! Los índices de las listas comienzan con 0, no con 1: el primer elemento es `nombre_de_lista[0]`. "
   ]
  },
  {
   "cell_type": "code",
   "execution_count": null,
   "metadata": {
    "collapsed": false
   },
   "outputs": [],
   "source": [
    "print(\"el primer día de la semana es\", dias[0])\n",
    "print(\"el tercer día de la semana es \" + dias[2])\n",
    "print(\"y el último es\", dias[-1])\n",
    "\n",
    "# podemos utilizar los índices también para reasignar valores a los elementos de una lista\n",
    "# p. ej., cambiamos el primer valor de la lista misCosas\n",
    "misCosas[0] = 44\n",
    "print(misCosas)\n",
    "\n",
    "# ¡OJO! si intentamos acceder a un índice que no existe, el intérprete nos dará error\n",
    "print(misCosas[8])"
   ]
  },
  {
   "cell_type": "markdown",
   "metadata": {},
   "source": [
    "Podemos acceder a *porciones de una lista* usando una notación especial en los corchetes del índice. `nombre_de_lista[n:m]` devuelve la secuencia de elementos de la lista que va desde el índice *n* hasta el *m*."
   ]
  },
  {
   "cell_type": "code",
   "execution_count": null,
   "metadata": {
    "collapsed": false
   },
   "outputs": [],
   "source": [
    "# imprime los tres primeros elementos de la variable dias\n",
    "print(dias[:3])\n",
    "# imprime elementos del 3º al 6ª de la variable números\n",
    "print(numeros[2:6])\n",
    "# imprime los tres últimos números de la variable números\n",
    "print(numeros[-3:])"
   ]
  },
  {
   "cell_type": "markdown",
   "metadata": {},
   "source": [
    "Las cadenas, al igual que las listas, son estructuras ordenadas. No lo hemos mencionado antes, pero podemos utilizar esta misma notación de índices para acceder a elementos y a porciones de una cadena."
   ]
  },
  {
   "cell_type": "code",
   "execution_count": null,
   "metadata": {
    "collapsed": false
   },
   "outputs": [],
   "source": [
    "cadena = \"perrogatorana\"\n",
    "print(cadena[:5])\n",
    "print(cadena[5:9])\n",
    "print(cadena[-4:])"
   ]
  },
  {
   "cell_type": "markdown",
   "metadata": {},
   "source": [
    "## Métodos sobre listas\n",
    "\n",
    "Como con las cadenas, en las listas existen una serie de *funciones* y *métodos* que podemos ejecutar y que nos van a permitir realizar operaciones y transformar dichas listas de distintas maneras, p. ej.:\n",
    "\n",
    "- podemos contar el número de elementos de una lista con la función `len()`.\n",
    "- podemos buscar elementos en una lista sin saber la posición concreta que ocupan con el método `.index()`.  \n",
    "- podemos añadir nuevos elementos al final de una lista con el método `.append()`.\n",
    "- podemos añadir nuevos elementos en una posición concreta de una lista con el método `.insert()`.\n",
    "- podemos eliminar elementos de una lista con los métodos `.remove()` y  `.pop()`.\n",
    "- podemos concatenar una lista con otra con el método `.extend()`.\n",
    "\n",
    "Para más info, consulta los [métodos que podemos aplicar a las listas](http://rgruet.free.fr/PQR27/PQR2.7.html#list)."
   ]
  },
  {
   "cell_type": "code",
   "execution_count": null,
   "metadata": {
    "collapsed": false
   },
   "outputs": [],
   "source": [
    "# creamos una lista vacía\n",
    "miLista = []\n",
    "# ¿está realmente vacía?\n",
    "print(len(miLista))"
   ]
  },
  {
   "cell_type": "code",
   "execution_count": null,
   "metadata": {
    "collapsed": false
   },
   "outputs": [],
   "source": [
    "# ¿qué posición ocupa \"jueves\" en la lista dias\n",
    "print(dias.index(\"jueves\"))"
   ]
  },
  {
   "cell_type": "code",
   "execution_count": null,
   "metadata": {
    "collapsed": false
   },
   "outputs": [],
   "source": [
    "# añadimos varios elementos nuevos y vemos cómo va aumentando la lista\n",
    "miLista.append(2)\n",
    "print(miLista)\n",
    "\n",
    "miLista.append(\"palabra\")\n",
    "print(miLista)\n",
    "\n",
    "miLista.append(25**3)\n",
    "print(miLista)"
   ]
  },
  {
   "cell_type": "code",
   "execution_count": null,
   "metadata": {
    "collapsed": false
   },
   "outputs": [],
   "source": [
    "# añadimos como cuarto elemento otra lista de elementos: fíjate en la estructura del resultado\n",
    "miLista.append(numeros)\n",
    "print(miLista)"
   ]
  },
  {
   "cell_type": "code",
   "execution_count": null,
   "metadata": {
    "collapsed": false
   },
   "outputs": [],
   "source": [
    "# ¿cuántos elementos tiene miLista?\n",
    "print(\"la lista miLista tiene \" + str(len(miLista)) + \" elementos\")"
   ]
  },
  {
   "cell_type": "code",
   "execution_count": null,
   "metadata": {
    "collapsed": false
   },
   "outputs": [],
   "source": [
    "# añadimos como segundo elemento otro nuevo valor\n",
    "miLista.insert(1, \"segundo elemento\")\n",
    "print(miLista)"
   ]
  },
  {
   "cell_type": "code",
   "execution_count": null,
   "metadata": {
    "collapsed": false
   },
   "outputs": [],
   "source": [
    "print(miLista)\n",
    "\n",
    "# eliminarmos el elemento 2 y el elemento \"palabra\" de miLista\n",
    "miLista.pop(2)\n",
    "print(miLista)"
   ]
  },
  {
   "cell_type": "code",
   "execution_count": null,
   "metadata": {
    "collapsed": false
   },
   "outputs": [],
   "source": [
    "miLista.remove(\"palabra\")\n",
    "print(miLista)"
   ]
  },
  {
   "cell_type": "code",
   "execution_count": null,
   "metadata": {
    "collapsed": false
   },
   "outputs": [],
   "source": [
    "# también puedo eliminar el último elemento de la lista\n",
    "miLista.pop(-1)\n",
    "print(miLista)"
   ]
  },
  {
   "cell_type": "code",
   "execution_count": null,
   "metadata": {
    "collapsed": false
   },
   "outputs": [],
   "source": [
    "# concateno dos listas\n",
    "dias.extend(numeros)\n",
    "print(dias)"
   ]
  },
  {
   "cell_type": "markdown",
   "metadata": {},
   "source": [
    "# Tuplas\n",
    "\n",
    "Las **tuplas** de Python son una estructura de datos que almacenan una colección de diferentes tipos de información en forma de secuencia ordenada. Estas tuplas pueden guardar valores de cualquiera de los tipos que hemos visto anteriormente (cadenas, números y booleanos) e incluso otras listas o tuplas de manera anidada. La principal diferencia con las listas es que **las tuplas son inmutables**: no podemos modificarlas, ni añadiendo o eliminando elementos, ni reordenado, etc. \n",
    "\n",
    "Las tuplas se declaran especificando la colección de elementos entre paréntesis y separando los elementos con comas."
   ]
  },
  {
   "cell_type": "code",
   "execution_count": null,
   "metadata": {
    "collapsed": false
   },
   "outputs": [],
   "source": [
    "# creo tres tripletas, cada una almacenando el nombre, apellido y sexo de unas personas ficticias\n",
    "tripleta1 = (\"Carlos\", \"Pujol\", \"H\")\n",
    "tripleta2 = (\"Montse\", \"Santos\", \"M\")\n",
    "tripleta3 = (\"Ana\", \"Ruiz\", \"M\")\n",
    "\n",
    "# creo una lista de personas y añado las tripletas por orden\n",
    "personas = []\n",
    "personas.append(tripleta1)\n",
    "personas.append(tripleta2)\n",
    "personas.append(tripleta3)\n",
    "print(personas)\n",
    "\n",
    "# las tuplas son secuencias ordenadas, y como tales podemos acceder a sus elementos\n",
    "# a través de índices numéricos\n",
    "print(len(personas[0]))\n",
    "print(personas[1][1])"
   ]
  },
  {
   "cell_type": "markdown",
   "metadata": {},
   "source": [
    "# Diccionarios\n",
    "\n",
    "Los **diccionarios** de Python son una estructura de datos que almacena una colección de pares *clave:valor*. La clave es siempre una cadena, y el valor puede contener cualquiera de los tipos que hemos visto anteriormente (cadenas, números y booleanos) e incluso otras listas, tuplas o diccionarios de manera anidada. Al contrario que las listas y las tuplas, los diccionarios no son estructuras ordenadas. Por lo tanto, nos interesará utilizar diccionarios cuando necesitamos almacenar y acceder directamente a información cuyo nombre conozcamos.\n",
    "\n",
    "Podemos definir diccionarios de varias maneras:"
   ]
  },
  {
   "cell_type": "code",
   "execution_count": null,
   "metadata": {
    "collapsed": false
   },
   "outputs": [],
   "source": [
    "# entre llaves, separando claves y valores con dos puntos, y separando pares con comas\n",
    "victor = {\"nombre\": \"Victor\", \"apellido\": \"Peinado\", \"sexo\": \"H\", \"edad\": 37}\n",
    "print(victor)\n",
    "\n",
    "# declarando el diccionario como una estructura vacía y añadiendo los pares clave:valor después\n",
    "antonio = {}\n",
    "antonio[\"nombre\"] = \"Antonio\"\n",
    "antonio[\"apellido\"] = \"Santos\"\n",
    "antonio[\"sexo\"] = \"H\"\n",
    "antonio[\"edad\"] = 26\n",
    "print(antonio)\n",
    "\n",
    "# creo una lista de diccionarios: OJO, la lista sí está ordenada\n",
    "personas = [victor, antonio]\n",
    "print(personas)"
   ]
  },
  {
   "cell_type": "markdown",
   "metadata": {},
   "source": [
    "Podemos acceder a los elementos del diccionaro a través del nombre de la clave:"
   ]
  },
  {
   "cell_type": "code",
   "execution_count": null,
   "metadata": {
    "collapsed": false
   },
   "outputs": [],
   "source": [
    "print(victor[\"nombre\"])\n",
    "\n",
    "print(antonio[\"apellido\"])\n",
    "\n",
    "print(personas[1][\"nombre\"])"
   ]
  },
  {
   "cell_type": "markdown",
   "metadata": {},
   "source": [
    "## Métodos sobre diccionarios\n",
    "\n",
    "Como con otras estructuras de datos, los diccionarios proporcionan una serie de *funciones* y *métodos* que podemos ejecutar y que nos van a permitir manipular y acceder a dichos diccionarios de distintas maneras, p. ej.:\n",
    "\n",
    "- podemos contar el número de elementos de una diccionario la función `len()`.\n",
    "- podemos recuperar una lista conteniendo las claves de un diccionario con el método `.keys()`.\n",
    "- podemos recuperar una lista conteniendo los valores de un diccionario con el método `.values()`.\n",
    "- podemos comprobar que un diccionario contiene determinada clave con el método `.has_key()`.\n",
    "- podemos eliminar un elemento de un diccionario con el método `.pop()`.\n",
    "\n",
    "Para más info, consulta los [métodos que podemos aplicar a los diccionarios](http://rgruet.free.fr/PQR27/PQR2.7.html#dictionary)."
   ]
  },
  {
   "cell_type": "code",
   "execution_count": null,
   "metadata": {
    "collapsed": false
   },
   "outputs": [],
   "source": [
    "# ¿cuántos pares clave:valor tiene el diccionario antonio?\n",
    "print(len(antonio))\n",
    "\n",
    "# dame las claves\n",
    "print(antonio.keys())\n",
    "\n",
    "# dame los valores\n",
    "print(antonio.values())"
   ]
  },
  {
   "cell_type": "code",
   "execution_count": null,
   "metadata": {
    "collapsed": false
   },
   "outputs": [],
   "source": [
    "# recuerda que para crear nuevos pares clave:valor, basta con asignarles un valor\n",
    "antonio[\"altura\"] = 1.79\n",
    "\n",
    "# podemos comprobar si el diccionario tiene determinadas claves\n",
    "print(antonio.has_key(\"email\"))\n",
    "print(antonio.has_key(\"altura\"))\n",
    "print(antonio)"
   ]
  },
  {
   "cell_type": "code",
   "execution_count": null,
   "metadata": {
    "collapsed": false
   },
   "outputs": [],
   "source": [
    "# eliminamos la clave altura de antonio\n",
    "antonio.pop(\"altura\") \n",
    "print(antonio)"
   ]
  },
  {
   "cell_type": "markdown",
   "metadata": {},
   "source": [
    "Los diccionarios pueden contener otros diccionarios anidados, lo que conlleva que podemos manejar estructuras bastante complejas. A modo de ejemplo:"
   ]
  },
  {
   "cell_type": "code",
   "execution_count": null,
   "metadata": {
    "collapsed": false
   },
   "outputs": [],
   "source": [
    "# creo un diccionario de la familia Pig, en principio vacío\n",
    "familiaPig = {}\n",
    "\n",
    "# creo varios diccionarios por cada miembro de la familia\n",
    "hija = {\"nombre\": \"Peppa\", \"apellido\": \"Pig\", \"email\": \"peppa@pig.com\",}\n",
    "hijo = {\"nombre\": \"George\", \"apellido\": \"Pig\", \"email\": \"george@pig.com\",}\n",
    "padre = {\"nombre\": \"Daddy\", \"apellido\": \"Pig\", \"email\": \"daddy@pig.com\",}\n",
    "madre = {\"nombre\": \"Mommy\", \"apellido\": \"Pig\", \"email\": \"mommy@pig.com\",}\n",
    "\n",
    "\n",
    "familiaPig[\"hija\"] = hija\n",
    "familiaPig[\"hijo\"] = hijo\n",
    "familiaPig[\"padre\"] = padre\n",
    "familiaPig[\"madre\"] = madre\n",
    "\n",
    "print(familiaPig)"
   ]
  },
  {
   "cell_type": "code",
   "execution_count": null,
   "metadata": {
    "collapsed": false
   },
   "outputs": [],
   "source": [
    "# ¿Cuál es el email de la madre?\n",
    "print(familiaPig[\"madre\"][\"email\"])\n",
    "\n",
    "# ¿Y el nombre de la hija?\n",
    "print(familiaPig[\"hija\"][\"nombre\"])\n",
    "\n",
    "# en lugar de un diccionario, puedo crear también una lista con los miembros de la familia ordenados por edad\n",
    "familia = [padre, madre, hija, hijo]\n",
    "\n",
    "# ahora solo puedo acceder por índices, así que ¿cuál es el email del primer miembro de la familia?\n",
    "print(familia[0][\"email\"])\n",
    "\n",
    "# ¿Y el nombre del miembro más joven?\n",
    "print(familia[-1][\"nombre\"])"
   ]
  },
  {
   "cell_type": "code",
   "execution_count": null,
   "metadata": {
    "collapsed": false
   },
   "outputs": [],
   "source": [
    "from IPython.core.display import Image\n",
    "Image(\"http://peppapigjuegos.com/img/wallpapers/2pag/peppa_pig_family.jpg\")"
   ]
  },
  {
   "cell_type": "code",
   "execution_count": null,
   "metadata": {
    "collapsed": true
   },
   "outputs": [],
   "source": []
  }
 ],
 "metadata": {
  "kernelspec": {
   "display_name": "Python 2",
   "language": "python",
   "name": "python2"
  },
  "language_info": {
   "codemirror_mode": {
    "name": "ipython",
    "version": 2
   },
   "file_extension": ".py",
   "mimetype": "text/x-python",
   "name": "python",
   "nbconvert_exporter": "python",
   "pygments_lexer": "ipython2",
   "version": "2.7.6"
  }
 },
 "nbformat": 4,
 "nbformat_minor": 0
}
